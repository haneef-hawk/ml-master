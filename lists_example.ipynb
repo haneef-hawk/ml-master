{
  "nbformat": 4,
  "nbformat_minor": 0,
  "metadata": {
    "colab": {
      "provenance": [],
      "authorship_tag": "ABX9TyNE1xDk1kDQOdChNg2Cb3FA",
      "include_colab_link": true
    },
    "kernelspec": {
      "name": "python3",
      "display_name": "Python 3"
    },
    "language_info": {
      "name": "python"
    }
  },
  "cells": [
    {
      "cell_type": "markdown",
      "metadata": {
        "id": "view-in-github",
        "colab_type": "text"
      },
      "source": [
        "<a href=\"https://colab.research.google.com/github/haneef-hawk/ml-master/blob/list/lists_example.ipynb\" target=\"_parent\"><img src=\"https://colab.research.google.com/assets/colab-badge.svg\" alt=\"Open In Colab\"/></a>"
      ]
    },
    {
      "cell_type": "markdown",
      "source": [
        "# Lists\n",
        "Lists in Python represent ordered sequences of values. Here is an example of how to create them:"
      ],
      "metadata": {
        "id": "gApCU-km6IPU"
      }
    },
    {
      "cell_type": "code",
      "execution_count": 17,
      "metadata": {
        "id": "Dui3ueDV10aV"
      },
      "outputs": [],
      "source": [
        "evenNumbers = [2, 4, 6, 8]"
      ]
    },
    {
      "cell_type": "markdown",
      "source": [
        "We can have a list of strings as below example code:"
      ],
      "metadata": {
        "id": "I5h_rgkT6iSr"
      }
    },
    {
      "cell_type": "code",
      "source": [
        "cars = [\"Tesla\",\"WV\",\"Ferrari\",\"Subharu\",\"Opel\",\"Jeep\",\"Toyota\"]"
      ],
      "metadata": {
        "id": "iJ9q7Mcz6tHc"
      },
      "execution_count": 18,
      "outputs": []
    },
    {
      "cell_type": "markdown",
      "source": [
        "We can also have a list of lists"
      ],
      "metadata": {
        "id": "HJ84SXak7GG7"
      }
    },
    {
      "cell_type": "code",
      "source": [
        "matrixA = [\n",
        "    [12,11,13],\n",
        "    [34,54,67],\n",
        "    [23,90,21], # a comma after the last element is optional \n",
        "]\n",
        "\n",
        "# the above code can also be written as shown below.\n",
        "matrixB = [[12,11,13], [34,54,67], [23,90,21]] "
      ],
      "metadata": {
        "id": "Y_XiDOLf7Kv7"
      },
      "execution_count": 19,
      "outputs": []
    },
    {
      "cell_type": "markdown",
      "source": [
        "A list can also have a mix of different datatypes as shown below"
      ],
      "metadata": {
        "id": "zpaJwvJj8U0c"
      }
    },
    {
      "cell_type": "code",
      "source": [
        "person = [29,\"Mohamed Ali\",\"Professional Boxer\",3]"
      ],
      "metadata": {
        "id": "jz7umD4M8cE7"
      },
      "execution_count": 20,
      "outputs": []
    },
    {
      "cell_type": "markdown",
      "source": [
        "# accessing list items using index value\n",
        "index default value starts with 0.\n"
      ],
      "metadata": {
        "id": "kuJiAX3rXvbq"
      }
    },
    {
      "cell_type": "code",
      "source": [
        "print(cars[0])"
      ],
      "metadata": {
        "colab": {
          "base_uri": "https://localhost:8080/"
        },
        "id": "lzPpQbmImE1g",
        "outputId": "5090ba39-7d77-42d1-a7a3-b5950f006f1c"
      },
      "execution_count": 21,
      "outputs": [
        {
          "output_type": "stream",
          "name": "stdout",
          "text": [
            "Tesla\n"
          ]
        }
      ]
    },
    {
      "cell_type": "markdown",
      "source": [
        "Elements at the end of the list can be accessed with negative numbers, starting from -1:"
      ],
      "metadata": {
        "id": "LHqN4pvemlII"
      }
    },
    {
      "cell_type": "code",
      "source": [
        "print(cars[-1],cars[-2], cars[-3])"
      ],
      "metadata": {
        "colab": {
          "base_uri": "https://localhost:8080/"
        },
        "id": "xZRbIs2xmmX_",
        "outputId": "ca2f8f26-3777-4e68-97e2-0b922898c642"
      },
      "execution_count": 22,
      "outputs": [
        {
          "output_type": "stream",
          "name": "stdout",
          "text": [
            "Toyota Jeep Opel\n"
          ]
        }
      ]
    },
    {
      "cell_type": "markdown",
      "source": [
        "# Slicing\n",
        "cutting a portion of the list/array based on the index numbering [inclusive start index : exclusive end index ]\n",
        "example as shown below from the list cars = [\"Tesla\",\"WV\",\"Ferrari\",\"Subharu\",\"Opel\",\"Jeep\",\"Toyota\"]\n"
      ],
      "metadata": {
        "id": "Ik6YnfmZm2iG"
      }
    },
    {
      "cell_type": "code",
      "source": [
        "print(cars[0:2]) # prints from index value 0 to 1, because 2 is exclusive and 0 is inclusive."
      ],
      "metadata": {
        "colab": {
          "base_uri": "https://localhost:8080/"
        },
        "id": "LNFjd_aXnSQg",
        "outputId": "dbe74a37-588d-4d86-b950-a405e62cbcf8"
      },
      "execution_count": 23,
      "outputs": [
        {
          "output_type": "stream",
          "name": "stdout",
          "text": [
            "['Tesla', 'WV']\n"
          ]
        }
      ]
    },
    {
      "cell_type": "code",
      "source": [
        "print(cars[:2]) # the starting value is 0 by default, print till index value 1."
      ],
      "metadata": {
        "colab": {
          "base_uri": "https://localhost:8080/"
        },
        "id": "oYnZgT3Zn6N_",
        "outputId": "914a2c32-8296-468b-ffff-0491acc43475"
      },
      "execution_count": 24,
      "outputs": [
        {
          "output_type": "stream",
          "name": "stdout",
          "text": [
            "['Tesla', 'WV']\n"
          ]
        }
      ]
    },
    {
      "cell_type": "code",
      "source": [
        "print(cars[2:]) # from index value 2 till the end of the list."
      ],
      "metadata": {
        "colab": {
          "base_uri": "https://localhost:8080/"
        },
        "id": "J8sWYUGFoFye",
        "outputId": "337d0534-b423-45c9-a2f6-c14f9d72a387"
      },
      "execution_count": 25,
      "outputs": [
        {
          "output_type": "stream",
          "name": "stdout",
          "text": [
            "['Ferrari', 'Subharu', 'Opel', 'Jeep', 'Toyota']\n"
          ]
        }
      ]
    },
    {
      "cell_type": "code",
      "source": [
        "print(cars[1:-1]) # print everything except the first and the last"
      ],
      "metadata": {
        "colab": {
          "base_uri": "https://localhost:8080/"
        },
        "id": "b-hLxIJzofeJ",
        "outputId": "610cdc4d-18ce-456d-a876-8f5e6f5f69a6"
      },
      "execution_count": 26,
      "outputs": [
        {
          "output_type": "stream",
          "name": "stdout",
          "text": [
            "['WV', 'Ferrari', 'Subharu', 'Opel', 'Jeep']\n"
          ]
        }
      ]
    },
    {
      "cell_type": "code",
      "source": [
        "print(cars[-3:]) # print the last 3 values"
      ],
      "metadata": {
        "colab": {
          "base_uri": "https://localhost:8080/"
        },
        "id": "fw-6YPrSopzK",
        "outputId": "61ec5e95-b990-43f6-dd05-b24581cec331"
      },
      "execution_count": 27,
      "outputs": [
        {
          "output_type": "stream",
          "name": "stdout",
          "text": [
            "['Opel', 'Jeep', 'Toyota']\n"
          ]
        }
      ]
    },
    {
      "cell_type": "code",
      "source": [
        "print(cars[:-3]) # print excluding the last 3 values"
      ],
      "metadata": {
        "colab": {
          "base_uri": "https://localhost:8080/"
        },
        "id": "_ggHFApnozNe",
        "outputId": "36d6acc7-1289-41f0-a290-652b20e22ea3"
      },
      "execution_count": 28,
      "outputs": [
        {
          "output_type": "stream",
          "name": "stdout",
          "text": [
            "['Tesla', 'WV', 'Ferrari', 'Subharu']\n"
          ]
        }
      ]
    },
    {
      "cell_type": "markdown",
      "source": [
        "# Changing list values\n",
        "Lists are \"mutable\", meaning they can be modified \"in place\".\n",
        "\n",
        "One way to modify a list is to assign to an index or slice expression.\n",
        "\n",
        "For example, let's say we want to rename Mars:"
      ],
      "metadata": {
        "id": "bSwlXXiC0Pg_"
      }
    },
    {
      "cell_type": "code",
      "source": [
        "print(\"before\\n\",cars)\n",
        "cars[3]=\"MG\"\n",
        "print(\"after\\n\",cars)"
      ],
      "metadata": {
        "colab": {
          "base_uri": "https://localhost:8080/"
        },
        "id": "aazkeJM00VEA",
        "outputId": "e4ad2f65-9f67-4169-e761-3ce302ed804a"
      },
      "execution_count": 29,
      "outputs": [
        {
          "output_type": "stream",
          "name": "stdout",
          "text": [
            "before\n",
            " ['Tesla', 'WV', 'Ferrari', 'Subharu', 'Opel', 'Jeep', 'Toyota']\n",
            "after\n",
            " ['Tesla', 'WV', 'Ferrari', 'MG', 'Opel', 'Jeep', 'Toyota']\n"
          ]
        }
      ]
    },
    {
      "cell_type": "markdown",
      "source": [
        "we can also update a bulk values by making use of the slice concept as shown below."
      ],
      "metadata": {
        "id": "gBATDqmT1Eqd"
      }
    },
    {
      "cell_type": "code",
      "source": [
        "print(\"before\\n\",cars)\n",
        "cars[:3] = [\"Lamborghini\",\"Fiat\",\"GMC\"]\n",
        "print(\"after\\n\",cars)"
      ],
      "metadata": {
        "colab": {
          "base_uri": "https://localhost:8080/"
        },
        "id": "wuwraWet1TjI",
        "outputId": "7b2b573d-f5b2-4ee9-e654-fcd5eba40990"
      },
      "execution_count": 30,
      "outputs": [
        {
          "output_type": "stream",
          "name": "stdout",
          "text": [
            "before\n",
            " ['Tesla', 'WV', 'Ferrari', 'MG', 'Opel', 'Jeep', 'Toyota']\n",
            "after\n",
            " ['Lamborghini', 'Fiat', 'GMC', 'MG', 'Opel', 'Jeep', 'Toyota']\n"
          ]
        }
      ]
    }
  ]
}