{
  "nbformat": 4,
  "nbformat_minor": 0,
  "metadata": {
    "colab": {
      "provenance": [],
      "authorship_tag": "ABX9TyPycBp5dIyGr1aoGq3FZyX5",
      "include_colab_link": true
    },
    "kernelspec": {
      "name": "python3",
      "display_name": "Python 3"
    },
    "language_info": {
      "name": "python"
    }
  },
  "cells": [
    {
      "cell_type": "markdown",
      "metadata": {
        "id": "view-in-github",
        "colab_type": "text"
      },
      "source": [
        "<a href=\"https://colab.research.google.com/github/haneef-hawk/ml-master/blob/list/lists_example.ipynb\" target=\"_parent\"><img src=\"https://colab.research.google.com/assets/colab-badge.svg\" alt=\"Open In Colab\"/></a>"
      ]
    },
    {
      "cell_type": "markdown",
      "source": [
        "# Lists\n",
        "Lists in Python represent ordered sequences of values. Here is an example of how to create them:"
      ],
      "metadata": {
        "id": "gApCU-km6IPU"
      }
    },
    {
      "cell_type": "code",
      "execution_count": null,
      "metadata": {
        "id": "Dui3ueDV10aV"
      },
      "outputs": [],
      "source": [
        "evenNumbers = [2, 4, 6, 8]"
      ]
    },
    {
      "cell_type": "markdown",
      "source": [
        "We can have a list of strings as below example code:"
      ],
      "metadata": {
        "id": "I5h_rgkT6iSr"
      }
    },
    {
      "cell_type": "code",
      "source": [
        "cars = [\"Tesla\",\"WV\",\"Ferrari\",\"Subharu\",\"Opel\",\"Jeep\",\"Toyota\"]"
      ],
      "metadata": {
        "id": "iJ9q7Mcz6tHc"
      },
      "execution_count": null,
      "outputs": []
    },
    {
      "cell_type": "markdown",
      "source": [
        "We can also have a list of lists"
      ],
      "metadata": {
        "id": "HJ84SXak7GG7"
      }
    },
    {
      "cell_type": "code",
      "source": [
        "matrixA = [\n",
        "    [12,11,13],\n",
        "    [34,54,67],\n",
        "    [23,90,21], # a comma after the last element is optional \n",
        "]\n",
        "\n",
        "# the above code can also be written as shown below.\n",
        "matrixB = [[12,11,13], [34,54,67], [23,90,21]] "
      ],
      "metadata": {
        "id": "Y_XiDOLf7Kv7"
      },
      "execution_count": null,
      "outputs": []
    },
    {
      "cell_type": "markdown",
      "source": [
        "A list can also have a mix of different datatypes as shown below"
      ],
      "metadata": {
        "id": "zpaJwvJj8U0c"
      }
    },
    {
      "cell_type": "code",
      "source": [
        "person = [29,\"Mohamed Ali\",\"Professional Boxer\",3]"
      ],
      "metadata": {
        "id": "jz7umD4M8cE7"
      },
      "execution_count": null,
      "outputs": []
    }
  ]
}